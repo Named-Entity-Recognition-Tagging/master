{
 "cells": [
  {
   "cell_type": "code",
   "execution_count": 55,
   "metadata": {},
   "outputs": [],
   "source": [
    "from keras import utils\n",
    "from keras.datasets import mnist\n",
    "from keras.models import Sequential\n",
    "from keras.layers import (Dense, Dropout, Flatten, Conv2D, MaxPooling2D)\n",
    "# from __future__ import print_function\n",
    "# from keras import backend as K\n",
    "import tensorflow as tf"
   ]
  },
  {
   "cell_type": "code",
   "execution_count": 58,
   "metadata": {},
   "outputs": [
    {
     "name": "stdout",
     "output_type": "stream",
     "text": [
      "Epoch 1/15\n",
      "60000/60000 [==============================] - 43s 721us/step - loss: 0.9956 - accuracy: 0.6894\n",
      "Epoch 2/15\n",
      "60000/60000 [==============================] - 44s 736us/step - loss: 0.4390 - accuracy: 0.8657\n",
      "Epoch 3/15\n",
      "60000/60000 [==============================] - 44s 726us/step - loss: 0.3646 - accuracy: 0.8899\n",
      "Epoch 4/15\n",
      "60000/60000 [==============================] - 46s 760us/step - loss: 0.3282 - accuracy: 0.9006\n",
      "Epoch 5/15\n",
      "60000/60000 [==============================] - 50s 825us/step - loss: 0.2942 - accuracy: 0.9115\n",
      "Epoch 6/15\n",
      "60000/60000 [==============================] - 44s 737us/step - loss: 0.2728 - accuracy: 0.9169\n",
      "Epoch 7/15\n",
      "60000/60000 [==============================] - 43s 722us/step - loss: 0.2561 - accuracy: 0.9237\n",
      "Epoch 8/15\n",
      "60000/60000 [==============================] - 43s 722us/step - loss: 0.2417 - accuracy: 0.9275\n",
      "Epoch 9/15\n",
      "60000/60000 [==============================] - 43s 719us/step - loss: 0.2305 - accuracy: 0.9301\n",
      "Epoch 10/15\n",
      "60000/60000 [==============================] - 43s 720us/step - loss: 0.2179 - accuracy: 0.9351s - loss: 0.2178 - accuracy: \n",
      "Epoch 11/15\n",
      "60000/60000 [==============================] - 43s 719us/step - loss: 0.2036 - accuracy: 0.9389\n",
      "Epoch 12/15\n",
      "60000/60000 [==============================] - 43s 724us/step - loss: 0.1986 - accuracy: 0.9407\n",
      "Epoch 13/15\n",
      "60000/60000 [==============================] - 43s 720us/step - loss: 0.1875 - accuracy: 0.9441\n",
      "Epoch 14/15\n",
      "60000/60000 [==============================] - 43s 719us/step - loss: 0.1760 - accuracy: 0.9474\n",
      "Epoch 15/15\n",
      "60000/60000 [==============================] - 43s 719us/step - loss: 0.1695 - accuracy: 0.9498\n",
      "Test loss: 0.08599814991336316\n",
      "Test accuracy: 0.9731000065803528\n"
     ]
    }
   ],
   "source": [
    "epochs = 15\n",
    "batch_size = 130\n",
    "num_classes = 10 # From 0 to 9\n",
    "\n",
    "# input image dimensions\n",
    "img_rows, img_cols = 28, 28 # len(x_train[0][0])\n",
    "\n",
    "(x_train, y_train), (x_test, y_test) = mnist.load_data()\n",
    "\n",
    "# Returns the default image data format convention\n",
    "# tf.keras.backend.image_data_format() = 'channels_last'\n",
    "x_train = x_train.reshape(x_train.shape[0], img_rows, img_cols, 1)\n",
    "x_test = x_test.reshape(x_test.shape[0], img_rows, img_cols, 1)\n",
    "input_shape = (img_rows, img_cols, 1)\n",
    "\n",
    "x_train = x_train.astype('float32')\n",
    "x_test = x_test.astype('float32')\n",
    "# New Values are betwwen 0 and 1\n",
    "x_train /= 255 \n",
    "x_test /= 255\n",
    "# print(x_train.shape[0], 'train samples')\n",
    "# print(x_test.shape[0], 'test samples')\n",
    "\n",
    "\n",
    "# Convert integer into an array of length = num_classes\n",
    "y_train = utils.to_categorical(y_train, num_classes)\n",
    "y_test = utils.to_categorical(y_test, num_classes)\n",
    "\n",
    "model = Sequential()\n",
    "model.add(Conv2D(32, kernel_size=(3, 3),\n",
    "                 activation='relu',\n",
    "                 input_shape=input_shape))\n",
    "model.add(Conv2D(64, (3, 3), activation='relu'))\n",
    "model.add(MaxPooling2D(pool_size=(2, 2)))\n",
    "model.add(Dropout(0.25))\n",
    "model.add(Flatten())\n",
    "model.add(Dense(128, activation='relu'))\n",
    "model.add(Dropout(0.5))\n",
    "model.add(Dense(num_classes, activation='softmax'))\n",
    "\n",
    "\n",
    "\n",
    "model.compile(loss='categorical_crossentropy', \n",
    "             optimizer='sgd', # Stochastic Gradient Descent \n",
    "             metrics=['accuracy'])\n",
    "\n",
    "model.fit(x_train, y_train, epochs=epochs, batch_size=batch_size) #x_train and y_train are numpy arrays\n",
    "\n",
    "score = model.evaluate(x_test, y_test, verbose=0)\n",
    "print('Test loss:', score[0])\n",
    "print('Test accuracy:', score[1])"
   ]
  },
  {
   "cell_type": "code",
   "execution_count": null,
   "metadata": {},
   "outputs": [],
   "source": []
  }
 ],
 "metadata": {
  "kernelspec": {
   "display_name": "Python 3",
   "language": "python",
   "name": "python3"
  },
  "language_info": {
   "codemirror_mode": {
    "name": "ipython",
    "version": 3
   },
   "file_extension": ".py",
   "mimetype": "text/x-python",
   "name": "python",
   "nbconvert_exporter": "python",
   "pygments_lexer": "ipython3",
   "version": "3.6.9"
  }
 },
 "nbformat": 4,
 "nbformat_minor": 2
}
